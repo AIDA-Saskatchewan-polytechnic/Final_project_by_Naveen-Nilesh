{
  "cells": [
    {
      "cell_type": "code",
      "execution_count": null,
      "metadata": {
        "id": "dA0XiMK2K2IS"
      },
      "outputs": [],
      "source": [
        "import pandas as pd\n",
        "from alpha_vantage.timeseries import TimeSeries\n",
        "import matplotlib.pyplot as plt\n",
        "import matplotlib.dates as matDates"
      ]
    },
    {
      "cell_type": "code",
      "execution_count": null,
      "metadata": {
        "id": "cd-xuwuaK345"
      },
      "outputs": [],
      "source": [
        "dataFrame_confirm_cases = pd.read_csv ('https://raw.githubusercontent.com/CSSEGISandData/COVID-19/master/csse_covid_19_data/csse_covid_19_time_series/time_series_covid19_confirmed_global.csv')\n",
        "dataFrame_death_cases = pd.read_csv('https://raw.githubusercontent.com/CSSEGISandData/COVID-19/master/csse_covid_19_data/csse_covid_19_time_series/time_series_covid19_deaths_global.csv')"
      ]
    },
    {
      "cell_type": "code",
      "execution_count": null,
      "metadata": {
        "id": "rp_nSTa9K-Xq"
      },
      "outputs": [],
      "source": [
        "dataFrame_confirm_cases"
      ]
    },
    {
      "cell_type": "code",
      "execution_count": null,
      "metadata": {
        "id": "kmvDonNBLAVi"
      },
      "outputs": [],
      "source": [
        "dataFrame_death_cases"
      ]
    },
    {
      "cell_type": "code",
      "execution_count": null,
      "metadata": {},
      "outputs": [],
      "source": [
        "dataFrame_confirm_cases['Total_Confirmed_Cases'] = dataFrame_confirm_cases.iloc[:,4:].sum(axis=1)\n",
        "dataFrame_confirm_cases"
      ]
    },
    {
      "cell_type": "code",
      "execution_count": null,
      "metadata": {},
      "outputs": [],
      "source": [
        "dataFrame_death_cases['Total_Death_Cases'] = dataFrame_death_cases.iloc[:,4:].sum(axis=1)\n",
        "dataFrame_death_cases"
      ]
    },
    {
      "cell_type": "code",
      "execution_count": null,
      "metadata": {},
      "outputs": [],
      "source": [
        "cc = dataFrame_confirm_cases[['Province/State','Country/Region','Total_Confirmed_Cases']]\n",
        "dc = dataFrame_death_cases[['Province/State','Country/Region','Total_Death_Cases']]"
      ]
    },
    {
      "cell_type": "code",
      "execution_count": null,
      "metadata": {},
      "outputs": [],
      "source": [
        "df_global_levela = pd.merge(cc, dc, on=['Province/State','Country/Region'])\n",
        "df_global_levela"
      ]
    }
  ],
  "metadata": {
    "colab": {
      "provenance": []
    },
    "kernelspec": {
      "display_name": "Python 3",
      "name": "python3"
    },
    "language_info": {
      "name": "python"
    }
  },
  "nbformat": 4,
  "nbformat_minor": 0
}
